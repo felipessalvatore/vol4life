{
 "cells": [
  {
   "cell_type": "markdown",
   "metadata": {},
   "source": [
    "## Scoring returns\n",
    "\n",
    "### All imports"
   ]
  },
  {
   "cell_type": "code",
   "execution_count": 1,
   "metadata": {},
   "outputs": [],
   "source": [
    "import pandas as pd\n",
    "import numpy as np\n",
    "from IPython.display import display, HTML\n",
    "from vol4life.score import sharpe_ratio\n",
    "import matplotlib.pyplot as plt"
   ]
  },
  {
   "cell_type": "markdown",
   "metadata": {},
   "source": [
    "### Getting risk-free interest rate ([SELIC](https://dadosabertos.bcb.gov.br/dataset/11-taxa-de-juros---selic))\n"
   ]
  },
  {
   "cell_type": "code",
   "execution_count": 2,
   "metadata": {},
   "outputs": [],
   "source": [
    "selic = pd.read_csv(\"data/bcdata.sgs.11.csv\",sep=\";\")\n",
    "selic.loc[:,\"selic\"] = selic.valor.map(lambda s: s.replace(\",\", \".\")).astype(\"float\") / 100\n",
    "selic.loc[:,\"datetime\"] = pd.to_datetime(selic.data)\n",
    "selic = selic[[\"datetime\", \"selic\"]].groupby(\"datetime\").mean()"
   ]
  },
  {
   "cell_type": "markdown",
   "metadata": {},
   "source": [
    "### Loading market data and selecting a subset of tickers"
   ]
  },
  {
   "cell_type": "code",
   "execution_count": 3,
   "metadata": {},
   "outputs": [
    {
     "data": {
      "text/html": [
       "<h3>Price dataset</h3>"
      ],
      "text/plain": [
       "<IPython.core.display.HTML object>"
      ]
     },
     "metadata": {},
     "output_type": "display_data"
    },
    {
     "data": {
      "text/html": [
       "<br><b>head<b>"
      ],
      "text/plain": [
       "<IPython.core.display.HTML object>"
      ]
     },
     "metadata": {},
     "output_type": "display_data"
    },
    {
     "data": {
      "text/html": [
       "<table border=\"1\" class=\"dataframe\">\n",
       "  <thead>\n",
       "    <tr style=\"text-align: right;\">\n",
       "      <th></th>\n",
       "      <th>PETR3</th>\n",
       "      <th>VALE3</th>\n",
       "      <th>BBDC3</th>\n",
       "      <th>ITSA4</th>\n",
       "    </tr>\n",
       "    <tr>\n",
       "      <th>datetime</th>\n",
       "      <th></th>\n",
       "      <th></th>\n",
       "      <th></th>\n",
       "      <th></th>\n",
       "    </tr>\n",
       "  </thead>\n",
       "  <tbody>\n",
       "    <tr>\n",
       "      <th>2010-01-04</th>\n",
       "      <td>41.65</td>\n",
       "      <td>51.49</td>\n",
       "      <td>31.00</td>\n",
       "      <td>12.37</td>\n",
       "    </tr>\n",
       "    <tr>\n",
       "      <th>2010-01-05</th>\n",
       "      <td>41.40</td>\n",
       "      <td>51.97</td>\n",
       "      <td>30.56</td>\n",
       "      <td>12.33</td>\n",
       "    </tr>\n",
       "  </tbody>\n",
       "</table>"
      ],
      "text/plain": [
       "<IPython.core.display.HTML object>"
      ]
     },
     "metadata": {},
     "output_type": "display_data"
    },
    {
     "data": {
      "text/html": [
       "<br><b>tail<b>"
      ],
      "text/plain": [
       "<IPython.core.display.HTML object>"
      ]
     },
     "metadata": {},
     "output_type": "display_data"
    },
    {
     "data": {
      "text/html": [
       "<table border=\"1\" class=\"dataframe\">\n",
       "  <thead>\n",
       "    <tr style=\"text-align: right;\">\n",
       "      <th></th>\n",
       "      <th>PETR3</th>\n",
       "      <th>VALE3</th>\n",
       "      <th>BBDC3</th>\n",
       "      <th>ITSA4</th>\n",
       "    </tr>\n",
       "    <tr>\n",
       "      <th>datetime</th>\n",
       "      <th></th>\n",
       "      <th></th>\n",
       "      <th></th>\n",
       "      <th></th>\n",
       "    </tr>\n",
       "  </thead>\n",
       "  <tbody>\n",
       "    <tr>\n",
       "      <th>2020-04-29</th>\n",
       "      <td>19.00</td>\n",
       "      <td>46.73</td>\n",
       "      <td>18.77</td>\n",
       "      <td>9.26</td>\n",
       "    </tr>\n",
       "    <tr>\n",
       "      <th>2020-04-30</th>\n",
       "      <td>18.65</td>\n",
       "      <td>44.86</td>\n",
       "      <td>17.56</td>\n",
       "      <td>9.00</td>\n",
       "    </tr>\n",
       "  </tbody>\n",
       "</table>"
      ],
      "text/plain": [
       "<IPython.core.display.HTML object>"
      ]
     },
     "metadata": {},
     "output_type": "display_data"
    },
    {
     "data": {
      "text/html": [
       "<br><b>shape = (2554, 4)<b>"
      ],
      "text/plain": [
       "<IPython.core.display.HTML object>"
      ]
     },
     "metadata": {},
     "output_type": "display_data"
    }
   ],
   "source": [
    "path = \"data/b3_stocks_1994_2020.csv\"\n",
    "df = pd.read_csv(path)\n",
    "df.loc[:, \"datetime\"] =  pd.to_datetime(df.datetime)\n",
    "\n",
    "tickers = [\"PETR3\", \"VALE3\", \"BBDC3\", \"ITSA4\"]\n",
    "initial_date = \"2010-01-01\"\n",
    "\n",
    "df_sort = df.set_index([\"ticker\", \"datetime\"]).sort_index()\n",
    "tss = []\n",
    "for ticker in tickers:  \n",
    "    ts = df_sort.xs(ticker).close\n",
    "    ts.name = ticker\n",
    "    tss.append(ts)\n",
    "\n",
    "del df_sort\n",
    "prices = pd.concat(tss,1).interpolate(\"linear\", limit_direction=\"both\")[initial_date:]\n",
    "returns = prices.pct_change().dropna()\n",
    "\n",
    "# display\n",
    "display(HTML(\"<h3>Price dataset</h3>\"))\n",
    "display(HTML(\"<br><b>head<b>\"))\n",
    "display(HTML(prices.head(2).to_html()))\n",
    "display(HTML(\"<br><b>tail<b>\"))\n",
    "display(HTML(prices.tail(2).to_html()))\n",
    "display(HTML(\"<br><b>shape = {}<b>\".format(prices.shape)))"
   ]
  },
  {
   "cell_type": "markdown",
   "metadata": {},
   "source": [
    "## Scoring Returns:\n",
    " - **Return 1**: Uniform weights returns\n",
    " - **Return 2**: Returns of a Portfolio concentrated on banks \n",
    " - **Risk-Free-Rate**: SELIC series mean in the period"
   ]
  },
  {
   "cell_type": "code",
   "execution_count": 4,
   "metadata": {},
   "outputs": [
    {
     "name": "stdout",
     "output_type": "stream",
     "text": [
      "return1 sr = -0.270\n",
      "return2 sr = -0.286\n"
     ]
    }
   ],
   "source": [
    "size = prices.shape[1]\n",
    "p1 = np.repeat(1 / size, size)\n",
    "p2 = np.array([0.2, 0.2, 0.3, 0.3])\n",
    "return1 = prices.dot(p1).pct_change()\n",
    "return2 = prices.dot(p2).pct_change()\n",
    "\n",
    "l,r = str(prices.index[0].date()), str(prices.index[-1].date())\n",
    "rfr = selic[l:r].mean()[0]\n",
    "uni_sr = sharpe_ratio(return1,rfr=rfr)\n",
    "\n",
    "print(\"return1 sr = {:.3f}\".format(uni_sr))\n",
    "print(\"return2 sr = {:.3f}\".format(sharpe_ratio(return2,rfr=rfr)))"
   ]
  },
  {
   "cell_type": "markdown",
   "metadata": {},
   "source": [
    "### The Distribution of the Sharpe-Ratio"
   ]
  },
  {
   "cell_type": "code",
   "execution_count": 5,
   "metadata": {},
   "outputs": [
    {
     "data": {
      "image/png": "[encoded data removed]",
      "text/plain": [
       "<Figure size 720x360 with 1 Axes>"
      ]
     },
     "metadata": {
      "needs_background": "light"
     },
     "output_type": "display_data"
    }
   ],
   "source": [
    "simulations = 5000\n",
    "sr_series = []\n",
    "\n",
    "for _ in range(simulations):\n",
    "    w = np.random.uniform(0,1,size)\n",
    "    w = w / np.sum(w)\n",
    "    r = prices.dot(w).pct_change()\n",
    "    sr = sharpe_ratio(r,rfr=rfr)\n",
    "    sr_series.append(sr)\n",
    "    \n",
    "sr_series = pd.Series(sr_series)\n",
    "\n",
    "fig, ax = plt.subplots(figsize = (10,5))\n",
    "n, bins, patches = plt.hist(x=sr_series, bins='auto', color='#0294aa',\n",
    "                            alpha=0.7, rwidth=0.85)\n",
    "ax.axvline(uni_sr,0, 140, ls=\"--\", color=\"k\");"
   ]
  },
  {
   "cell_type": "code",
   "execution_count": null,
   "metadata": {},
   "outputs": [],
   "source": []
  }
 ],
 "metadata": {
  "kernelspec": {
   "display_name": "Python 3",
   "language": "python",
   "name": "python3"
  },
  "language_info": {
   "codemirror_mode": {
    "name": "ipython",
    "version": 3
   },
   "file_extension": ".py",
   "mimetype": "text/x-python",
   "name": "python",
   "nbconvert_exporter": "python",
   "pygments_lexer": "ipython3",
   "version": "3.6.9"
  }
 },
 "nbformat": 4,
 "nbformat_minor": 2
}
